{
 "cells": [
  {
   "cell_type": "code",
   "execution_count": 22,
   "id": "64e20f6d",
   "metadata": {},
   "outputs": [],
   "source": [
    "import pandas as pd\n",
    "import numpy as np"
   ]
  },
  {
   "cell_type": "code",
   "execution_count": 23,
   "id": "328c7c2e",
   "metadata": {
    "scrolled": true
   },
   "outputs": [
    {
     "name": "stdout",
     "output_type": "stream",
     "text": [
      "<class 'pandas.core.frame.DataFrame'>\n",
      "RangeIndex: 1767 entries, 0 to 1766\n",
      "Data columns (total 21 columns):\n",
      " #   Column                         Non-Null Count  Dtype  \n",
      "---  ------                         --------------  -----  \n",
      " 0   CustomerID                     1767 non-null   int64  \n",
      " 1   Coverage                       1767 non-null   object \n",
      " 2   Education                      1767 non-null   object \n",
      " 3   EmploymentStatus               1767 non-null   object \n",
      " 4   Gender                         1767 non-null   object \n",
      " 5   Income                         1528 non-null   float64\n",
      " 6   Location.Geo                   1767 non-null   object \n",
      " 7   Location.Code                  1767 non-null   object \n",
      " 8   Marital.Status                 1767 non-null   object \n",
      " 9   Monthly.Premium.Auto           1695 non-null   float64\n",
      " 10  Months.Since.Last.Claim        1767 non-null   int64  \n",
      " 11  Months.Since.Policy.Inception  1767 non-null   int64  \n",
      " 12  Number.of.Open.Complaints      1767 non-null   int64  \n",
      " 13  Number.of.Policies             1767 non-null   int64  \n",
      " 14  Policy.Type                    1725 non-null   object \n",
      " 15  Policy                         1767 non-null   object \n",
      " 16  Renew.Offer.Type               1767 non-null   object \n",
      " 17  Sales.Channel                  1767 non-null   object \n",
      " 18  Total.Claim.Amount             1767 non-null   float64\n",
      " 19  Vehicle.Class                  1767 non-null   object \n",
      " 20  Vehicle.Size                   1767 non-null   object \n",
      "dtypes: float64(3), int64(5), object(13)\n",
      "memory usage: 290.0+ KB\n",
      "<class 'pandas.core.frame.DataFrame'>\n",
      "Int64Index: 1440 entries, 0 to 1766\n",
      "Data columns (total 19 columns):\n",
      " #   Column                         Non-Null Count  Dtype  \n",
      "---  ------                         --------------  -----  \n",
      " 0   Coverage                       1440 non-null   object \n",
      " 1   Education                      1440 non-null   object \n",
      " 2   EmploymentStatus               1440 non-null   object \n",
      " 3   Gender                         1440 non-null   object \n",
      " 4   Income                         1440 non-null   float64\n",
      " 5   Location.Code                  1440 non-null   object \n",
      " 6   Marital.Status                 1440 non-null   object \n",
      " 7   Monthly.Premium.Auto           1440 non-null   float64\n",
      " 8   Months.Since.Last.Claim        1440 non-null   int64  \n",
      " 9   Months.Since.Policy.Inception  1440 non-null   int64  \n",
      " 10  Number.of.Open.Complaints      1440 non-null   int64  \n",
      " 11  Number.of.Policies             1440 non-null   int64  \n",
      " 12  Policy.Type                    1440 non-null   object \n",
      " 13  Policy                         1440 non-null   object \n",
      " 14  Renew.Offer.Type               1440 non-null   object \n",
      " 15  Sales.Channel                  1440 non-null   object \n",
      " 16  Total.Claim.Amount             1440 non-null   float64\n",
      " 17  Vehicle.Class                  1440 non-null   object \n",
      " 18  Vehicle.Size                   1440 non-null   object \n",
      "dtypes: float64(3), int64(4), object(12)\n",
      "memory usage: 225.0+ KB\n"
     ]
    }
   ],
   "source": [
    "df = pd.read_csv('customer.csv')\n",
    "df.info()\n",
    "df = df.dropna()  #Drop rows with Nulls\n",
    "df = df.drop(columns = ['CustomerID','Location.Geo'])\n",
    "df.info()"
   ]
  },
  {
   "cell_type": "code",
   "execution_count": 24,
   "id": "32503990",
   "metadata": {},
   "outputs": [],
   "source": [
    "y = df['Total.Claim.Amount']\n",
    "x = df.drop(columns='Total.Claim.Amount')"
   ]
  },
  {
   "cell_type": "code",
   "execution_count": 25,
   "id": "acc0796a",
   "metadata": {},
   "outputs": [
    {
     "name": "stdout",
     "output_type": "stream",
     "text": [
      "Drop List:  ['Coverage', 'Education', 'EmploymentStatus', 'Gender', 'Location.Code', 'Marital.Status', 'Policy.Type', 'Policy', 'Renew.Offer.Type', 'Sales.Channel', 'Vehicle.Class', 'Vehicle.Size']\n"
     ]
    },
    {
     "data": {
      "text/html": [
       "<div>\n",
       "<style scoped>\n",
       "    .dataframe tbody tr th:only-of-type {\n",
       "        vertical-align: middle;\n",
       "    }\n",
       "\n",
       "    .dataframe tbody tr th {\n",
       "        vertical-align: top;\n",
       "    }\n",
       "\n",
       "    .dataframe thead th {\n",
       "        text-align: right;\n",
       "    }\n",
       "</style>\n",
       "<table border=\"1\" class=\"dataframe\">\n",
       "  <thead>\n",
       "    <tr style=\"text-align: right;\">\n",
       "      <th></th>\n",
       "      <th>Income</th>\n",
       "      <th>Monthly.Premium.Auto</th>\n",
       "      <th>Months.Since.Last.Claim</th>\n",
       "      <th>Months.Since.Policy.Inception</th>\n",
       "      <th>Number.of.Open.Complaints</th>\n",
       "      <th>Number.of.Policies</th>\n",
       "    </tr>\n",
       "  </thead>\n",
       "  <tbody>\n",
       "    <tr>\n",
       "      <th>0</th>\n",
       "      <td>43836.0</td>\n",
       "      <td>73.0</td>\n",
       "      <td>12</td>\n",
       "      <td>44</td>\n",
       "      <td>0</td>\n",
       "      <td>1</td>\n",
       "    </tr>\n",
       "    <tr>\n",
       "      <th>1</th>\n",
       "      <td>28812.0</td>\n",
       "      <td>93.0</td>\n",
       "      <td>17</td>\n",
       "      <td>7</td>\n",
       "      <td>0</td>\n",
       "      <td>8</td>\n",
       "    </tr>\n",
       "    <tr>\n",
       "      <th>2</th>\n",
       "      <td>77026.0</td>\n",
       "      <td>110.0</td>\n",
       "      <td>9</td>\n",
       "      <td>82</td>\n",
       "      <td>2</td>\n",
       "      <td>3</td>\n",
       "    </tr>\n",
       "    <tr>\n",
       "      <th>3</th>\n",
       "      <td>24599.0</td>\n",
       "      <td>64.0</td>\n",
       "      <td>12</td>\n",
       "      <td>50</td>\n",
       "      <td>1</td>\n",
       "      <td>2</td>\n",
       "    </tr>\n",
       "    <tr>\n",
       "      <th>4</th>\n",
       "      <td>13789.0</td>\n",
       "      <td>79.0</td>\n",
       "      <td>8</td>\n",
       "      <td>49</td>\n",
       "      <td>0</td>\n",
       "      <td>1</td>\n",
       "    </tr>\n",
       "    <tr>\n",
       "      <th>...</th>\n",
       "      <td>...</td>\n",
       "      <td>...</td>\n",
       "      <td>...</td>\n",
       "      <td>...</td>\n",
       "      <td>...</td>\n",
       "      <td>...</td>\n",
       "    </tr>\n",
       "    <tr>\n",
       "      <th>1762</th>\n",
       "      <td>61896.0</td>\n",
       "      <td>104.0</td>\n",
       "      <td>25</td>\n",
       "      <td>97</td>\n",
       "      <td>0</td>\n",
       "      <td>1</td>\n",
       "    </tr>\n",
       "    <tr>\n",
       "      <th>1763</th>\n",
       "      <td>39317.0</td>\n",
       "      <td>64.0</td>\n",
       "      <td>22</td>\n",
       "      <td>46</td>\n",
       "      <td>0</td>\n",
       "      <td>1</td>\n",
       "    </tr>\n",
       "    <tr>\n",
       "      <th>1764</th>\n",
       "      <td>30205.0</td>\n",
       "      <td>195.0</td>\n",
       "      <td>24</td>\n",
       "      <td>1</td>\n",
       "      <td>0</td>\n",
       "      <td>4</td>\n",
       "    </tr>\n",
       "    <tr>\n",
       "      <th>1765</th>\n",
       "      <td>36918.0</td>\n",
       "      <td>76.0</td>\n",
       "      <td>28</td>\n",
       "      <td>77</td>\n",
       "      <td>3</td>\n",
       "      <td>3</td>\n",
       "    </tr>\n",
       "    <tr>\n",
       "      <th>1766</th>\n",
       "      <td>59367.0</td>\n",
       "      <td>84.0</td>\n",
       "      <td>6</td>\n",
       "      <td>48</td>\n",
       "      <td>0</td>\n",
       "      <td>1</td>\n",
       "    </tr>\n",
       "  </tbody>\n",
       "</table>\n",
       "<p>1440 rows × 6 columns</p>\n",
       "</div>"
      ],
      "text/plain": [
       "       Income  Monthly.Premium.Auto  Months.Since.Last.Claim  \\\n",
       "0     43836.0                  73.0                       12   \n",
       "1     28812.0                  93.0                       17   \n",
       "2     77026.0                 110.0                        9   \n",
       "3     24599.0                  64.0                       12   \n",
       "4     13789.0                  79.0                        8   \n",
       "...       ...                   ...                      ...   \n",
       "1762  61896.0                 104.0                       25   \n",
       "1763  39317.0                  64.0                       22   \n",
       "1764  30205.0                 195.0                       24   \n",
       "1765  36918.0                  76.0                       28   \n",
       "1766  59367.0                  84.0                        6   \n",
       "\n",
       "      Months.Since.Policy.Inception  Number.of.Open.Complaints  \\\n",
       "0                                44                          0   \n",
       "1                                 7                          0   \n",
       "2                                82                          2   \n",
       "3                                50                          1   \n",
       "4                                49                          0   \n",
       "...                             ...                        ...   \n",
       "1762                             97                          0   \n",
       "1763                             46                          0   \n",
       "1764                              1                          0   \n",
       "1765                             77                          3   \n",
       "1766                             48                          0   \n",
       "\n",
       "      Number.of.Policies  \n",
       "0                      1  \n",
       "1                      8  \n",
       "2                      3  \n",
       "3                      2  \n",
       "4                      1  \n",
       "...                  ...  \n",
       "1762                   1  \n",
       "1763                   1  \n",
       "1764                   4  \n",
       "1765                   3  \n",
       "1766                   1  \n",
       "\n",
       "[1440 rows x 6 columns]"
      ]
     },
     "metadata": {},
     "output_type": "display_data"
    }
   ],
   "source": [
    "#Drop categoricals with Count>=2.. All the categoricals have 2 or more categories so all of them are dropped\n",
    "drop_categories_list = []\n",
    "for i in x.columns:\n",
    "    if(x[i].dtype==object and len(x[i].unique())>=2):\n",
    "        drop_categories_list.append(i)\n",
    "print(\"Drop List: \",drop_categories_list)\n",
    "x = x.drop(columns = drop_categories_list)\n",
    "display(x)"
   ]
  },
  {
   "cell_type": "code",
   "execution_count": 26,
   "id": "243161d2",
   "metadata": {},
   "outputs": [],
   "source": [
    "from sklearn.preprocessing import normalize, StandardScaler\n",
    "# x = pd.DataFrame(normalize(x),columns = x.columns)\n",
    "scaler = StandardScaler()\n",
    "x = pd.DataFrame(scaler.fit_transform(x),columns = x.columns)   # Can also use standard scaler"
   ]
  },
  {
   "cell_type": "code",
   "execution_count": 27,
   "id": "a6daec5b",
   "metadata": {},
   "outputs": [
    {
     "name": "stdout",
     "output_type": "stream",
     "text": [
      "(1152, 6) (288, 6) (1152,) (288,)\n"
     ]
    }
   ],
   "source": [
    "#Train Test split\n",
    "from sklearn.model_selection import train_test_split\n",
    "X_train,X_test,y_train,y_test=train_test_split(x,y,test_size=0.2,random_state=100)\n",
    "print(X_train.shape,X_test.shape,y_train.shape,y_test.shape)"
   ]
  },
  {
   "cell_type": "code",
   "execution_count": 28,
   "id": "5808a03a",
   "metadata": {},
   "outputs": [
    {
     "name": "stdout",
     "output_type": "stream",
     "text": [
      "Model Coefficients:  393.8521308044146 [-91.11165996 169.58408251  -7.27184053  -9.24905545  -1.53810918\n",
      "   8.15029178]\n",
      "R2 Score (Train):  0.47398205173392405\n",
      "R2 Score (Test):  0.3728949596815613\n",
      "MSE (Train):  42075.69921664913\n",
      "MSE (Test):  41564.22014244631\n"
     ]
    }
   ],
   "source": [
    "from sklearn.linear_model import LinearRegression\n",
    "from sklearn.metrics import mean_squared_error, mean_absolute_error,r2_score\n",
    "\n",
    "# creating a regression model\n",
    "model = LinearRegression()\n",
    "model.fit(X_train,y_train)\n",
    "print(\"Model Coefficients: \", model.intercept_, model.coef_)  #Model coefficients\n",
    "# making predictions\n",
    "y_pred = model.predict(X_test)\n",
    "\n",
    "\n",
    "#R2 Score\n",
    "print(\"R2 Score (Train): \", r2_score(y_train, model.predict(X_train)))\n",
    "print(\"R2 Score (Test): \", r2_score(y_test, y_pred))\n",
    "#Mean Squared Error\n",
    "print(\"MSE (Train): \", mean_squared_error(y_train,model.predict(X_train)))\n",
    "print(\"MSE (Test): \", mean_squared_error(y_test,y_pred))\n",
    "\n",
    "#Comment: The R2 Score is only 11.1% which is very low. \n",
    "#         This means that the model is not able to perform well on the Regression task.\n",
    "#         MSE is also very High which again means the model has low predictive power.\n",
    "#         Train and Test R2 Score and MSE are in line with each other indicating that there is no overtraining.\n",
    "#         The model is performaning bad because of lack of good features."
   ]
  },
  {
   "cell_type": "code",
   "execution_count": 37,
   "id": "d777b4a0",
   "metadata": {},
   "outputs": [
    {
     "name": "stdout",
     "output_type": "stream",
     "text": [
      "Train Set Cross Validation\n",
      "CV_Score: [0.46260336 0.56120245 0.42516588 0.36273827 0.44542334]\n",
      "CV_Score Max: 0.5612024454000815\n",
      "CV_Score Min: 0.36273826982716795\n",
      "CV_Score Mean: 0.4514266592124219\n",
      "\n",
      "\n",
      "Test Set Cross Validation\n",
      "CV_Score: [0.1891361  0.44695035 0.35542499 0.38098685 0.27398056]\n",
      "CV_Score Max: 0.4469503517420721\n",
      "CV_Score Min: 0.18913610154788796\n",
      "CV_Score Mean: 0.3292957710126351\n"
     ]
    },
    {
     "data": {
      "text/plain": [
       "array([ 376.97436385,  411.18646887,  238.3044754 ,  254.82880246,\n",
       "        419.50134587,  230.41531122,  745.27734677,  337.48095602,\n",
       "        155.74218779,  405.19351932,  489.21704118,  251.71302628,\n",
       "        301.30757914,  301.14533449,  287.60164862,  410.38171895,\n",
       "        473.90121083,  227.44429774,  331.87093518,  215.84098626,\n",
       "        327.57234581,  340.76350911,  270.88976582,  149.63115938,\n",
       "        365.87355673,  335.42746071,  325.35516424,  580.01779618,\n",
       "        375.70524822,  295.38016932,  288.73246331,  272.84683907,\n",
       "        436.00165461,  606.62687511,  207.64857408,  205.27962794,\n",
       "        110.61781923,  298.90582496,  335.46770355,  217.3785025 ,\n",
       "        450.88403341,  235.91288368,  226.79451969,  279.21207033,\n",
       "        541.28559009,  638.88949307,  419.96861659,   95.22618652,\n",
       "        362.92700674,  549.84907069,  328.55039766,  137.46969689,\n",
       "        566.59067716,  550.65722799,  420.67721718,  318.82325105,\n",
       "        193.18799743,  574.40252265,  390.04953943,  298.25869517,\n",
       "        368.16889661,  730.8329947 ,  281.42502018,  595.75787023,\n",
       "        345.01993667,  446.19714162,  198.0961106 ,  279.61361034,\n",
       "        381.73517531,  494.75415734,  705.29754541,  350.35570074,\n",
       "        328.47829242,  278.52500221,  311.13030651,  488.86842416,\n",
       "        295.60862118,  521.88682944,  203.38951927,  526.91533206,\n",
       "        463.25000445,  340.64085491, 1257.68640465,  266.18739666,\n",
       "        203.46639935,  388.99115246,  355.91476172,  288.57986465,\n",
       "        636.25684201,  246.08008822,  436.56122533,  545.37919543,\n",
       "        351.7264605 ,  188.29712976,  400.77355146,  492.58167207,\n",
       "        486.3236039 ,  324.34209783,  483.75675337,  306.46489149,\n",
       "        192.60238925,  331.51223722,  539.12869161,  542.78019024,\n",
       "        405.97702236,  395.26581444,  527.33726927,  418.8472043 ,\n",
       "        123.49290547,  416.40685395,  384.35920379,  587.92993431,\n",
       "        404.86500494,  321.85807214,  306.86700592,  612.54992273,\n",
       "        453.89333789,  367.82850335,  222.94909539,  359.77952136,\n",
       "        525.55082692,  287.89337838,  212.18209874,  329.29473967,\n",
       "        328.36793576,  428.89917974,  388.0099361 ,  473.75555838,\n",
       "        219.45083306,  403.80328462,  215.38598352,  246.49348027,\n",
       "        221.95071966,  238.3036737 ,  332.75760376,  493.47183739,\n",
       "        326.81787162,  405.47321945,  345.67892527,  493.7917154 ,\n",
       "        341.62693445,  390.35552482,  413.52325574,  778.30616438,\n",
       "        427.61432875,  277.11832568,  411.51902838,  299.67444268,\n",
       "        247.47154085,  265.25452815,  192.84329571,  289.86444973,\n",
       "        348.78996519,  321.61761489,  492.46099479,  332.92195199,\n",
       "        427.01833719,  372.76229026,  402.63815582,  713.35492443,\n",
       "        171.945335  ,  291.08039208,  342.89473225,  474.52499426,\n",
       "        382.59319339,  432.61416565,  438.79982202,  355.9821752 ,\n",
       "        281.05255219,  217.836061  ,  161.6380995 ,  398.61715919,\n",
       "        335.53882551,  267.81602925,  284.15190353,  402.41179237,\n",
       "        429.8018815 ,  261.79451746,  165.95501444,  420.68793096,\n",
       "        284.58317739,  818.01627931,  291.03582874,  189.79922086,\n",
       "        191.31951788,  574.78298867,  240.38178653,  237.72962045,\n",
       "        353.98696216,  107.23032124,  220.62603178,  259.64066336,\n",
       "        175.24185686,  297.80595481,  380.46128893,  422.83806255,\n",
       "        366.45283715,  466.24071873,  291.20003185,  228.01790797,\n",
       "        320.65669117,  131.63315222,  597.07544759,  359.8656097 ,\n",
       "        102.47437092,   74.51538042,  252.17699912,  320.40904299,\n",
       "        339.51549764,  325.23170461,  344.32667946,  343.04904781,\n",
       "        595.9493926 , 1177.15904283,  406.22718881,  205.2395507 ,\n",
       "        406.18101606,  418.07219697,  430.98321461,  252.90615712,\n",
       "         74.13483798,  198.26925821,  392.39796465,  362.77665021,\n",
       "        399.71702746,  272.56559316,  228.32174973,  465.80231109,\n",
       "        369.71551211,  305.24071568,  437.85615968,  351.86082838,\n",
       "        624.81908351,  293.49337929,  427.16824729,  501.79843327,\n",
       "        302.67031475,  232.4512753 ,  449.91849156,  120.18380364,\n",
       "        101.41289457,  211.99815274,  458.909099  ,  414.97730055,\n",
       "         90.02330171,  559.38361326,  528.54683338,  117.69796382,\n",
       "        543.93232344,  475.31285203,  514.84714691,  358.11039933,\n",
       "        402.02071795,  862.30251488,  298.2215086 ,  408.0768825 ,\n",
       "        277.12779154,  478.50032275,  563.79913813,  267.09720296,\n",
       "        437.54505466,  425.89004153,  312.79710005,  299.42538569,\n",
       "        216.86493298,  417.74743494,  408.50172059,  146.05196216,\n",
       "        119.10420528,  443.49995913,  570.15053646,  549.45180662,\n",
       "        334.90926495,  233.81271099,  200.82632431,  679.5017664 ,\n",
       "        529.70420642,  639.14461309,  921.12690342,  569.71983916,\n",
       "        611.17839467,  156.09035627,  142.23086795,  398.43351178,\n",
       "        630.04799011,  432.08609823,  285.68238709,  749.77549164])"
      ]
     },
     "execution_count": 37,
     "metadata": {},
     "output_type": "execute_result"
    }
   ],
   "source": [
    "from sklearn.model_selection import cross_val_score,cross_val_predict\n",
    "lr=LinearRegression()\n",
    "#Train Set Cross Validation\n",
    "print(\"Train Set Cross Validation\")\n",
    "cv_score=cross_val_score(lr,X_train,y_train,cv=5)\n",
    "print('CV_Score:',cv_score)\n",
    "print('CV_Score Max:', cv_score.max())\n",
    "print('CV_Score Min:', cv_score.min())\n",
    "print('CV_Score Mean:', cv_score.mean())\n",
    "\n",
    "print()\n",
    "print()\n",
    "#Test Set Cross Validation\n",
    "print(\"Test Set Cross Validation\")\n",
    "cv_score=cross_val_score(lr,X_test,y_test,cv=5)\n",
    "print('CV_Score:',cv_score)\n",
    "print('CV_Score Max:', cv_score.max())\n",
    "print('CV_Score Min:', cv_score.min())\n",
    "print('CV_Score Mean:', cv_score.mean())\n",
    "y_pred_cv = cross_val_predict(lr,X_test,y_test,cv=5)\n",
    "#Comment: According to Train set Kfold cross validation. 5 Fold cross validation has a score on 0.45 and \n",
    "#         the max score is 0.56 which is better than plain linear regression score."
   ]
  },
  {
   "cell_type": "code",
   "execution_count": 33,
   "id": "7f5c5e0f",
   "metadata": {},
   "outputs": [
    {
     "name": "stdout",
     "output_type": "stream",
     "text": [
      "R2-Lasso-Train: 0.4739055806106328\n",
      "R2-Lasso-Test: 0.3741248681597521\n",
      "\n",
      "MSE-Lasso-Train: 42081.816072533926\n",
      "MSE-Lasso-Test: 41482.70240067115\n"
     ]
    }
   ],
   "source": [
    "from sklearn.linear_model import Lasso\n",
    "\n",
    "lasso=Lasso()\n",
    "lasso.fit(X_train,y_train)\n",
    "\n",
    "r2_lasso_train=r2_score(y_train, lasso.predict(X_train))\n",
    "r2_lasso_test=r2_score(y_test, lasso.predict(X_test))\n",
    "\n",
    "mse_lasso_train=mean_squared_error(y_train, lasso.predict(X_train))\n",
    "mse_lasso_test=mean_squared_error(y_test, lasso.predict(X_test))\n",
    "\n",
    "y_pred_lasso = lasso.predict(X_test)\n",
    "\n",
    "print('R2-Lasso-Train:',r2_lasso_train)\n",
    "print('R2-Lasso-Test:',r2_lasso_test)\n",
    "print()\n",
    "print('MSE-Lasso-Train:',mse_lasso_train)\n",
    "print('MSE-Lasso-Test:',mse_lasso_test)\n",
    "\n",
    "#Comment: The model performance is very slightly worse than Linear regression based on R2 Score\n",
    "#         as well as MSE. This indicates that the data does not contain enough \n",
    "#         information to peroperly predict the target variable."
   ]
  },
  {
   "cell_type": "code",
   "execution_count": 83,
   "id": "06bb0fb8",
   "metadata": {},
   "outputs": [
    {
     "data": {
      "text/plain": [
       "[Text(0.5, 1.0, 'R2 Scores')]"
      ]
     },
     "execution_count": 83,
     "metadata": {},
     "output_type": "execute_result"
    },
    {
     "data": {
      "image/png": "[encoded data removed]",
      "text/plain": [
       "<Figure size 842.4x595.44 with 1 Axes>"
      ]
     },
     "metadata": {},
     "output_type": "display_data"
    }
   ],
   "source": [
    "#Plot to compare models\n",
    "import seaborn as sns\n",
    "sns.set(rc={'figure.figsize':(11.7,8.27)})\n",
    "score_comp = pd.DataFrame([{'LR_R2_Train':r2_score(y_train,model.predict(X_train)),\n",
    "                            'LR_R2_Test':r2_score(y_test,model.predict(X_test)),\n",
    "                            'LASSO_R2_Train':r2_score(y_train,lasso.predict(X_train)),\n",
    "                            'LASSO_R2_Test':r2_score(y_test,lasso.predict(X_test)),\n",
    "                            'CV_R2_Train':r2_score(y_train,cross_val_predict(lr,X_train,y_train,cv=5)),\n",
    "                            'CV_R2_Test':r2_score(y_test,cross_val_predict(lr,X_test,y_test,cv=5))}]).transpose()\n",
    "\n",
    "sns.barplot(x=score_comp.index,y=score_comp[0],data=score_comp).set(title='R2 Scores')"
   ]
  },
  {
   "cell_type": "code",
   "execution_count": 84,
   "id": "5c98c2a6",
   "metadata": {},
   "outputs": [
    {
     "data": {
      "text/plain": [
       "[Text(0.5, 1.0, 'MSE Scores')]"
      ]
     },
     "execution_count": 84,
     "metadata": {},
     "output_type": "execute_result"
    },
    {
     "data": {
      "image/png": "[encoded data removed]",
      "text/plain": [
       "<Figure size 842.4x595.44 with 1 Axes>"
      ]
     },
     "metadata": {},
     "output_type": "display_data"
    }
   ],
   "source": [
    "score_comp = pd.DataFrame([{'LR_R2_Train':mean_squared_error(y_train,model.predict(X_train)),\n",
    "                            'LR_R2_Test':mean_squared_error(y_test,model.predict(X_test)),\n",
    "                            'LASSO_R2_Train':mean_squared_error(y_train,lasso.predict(X_train)),\n",
    "                            'LASSO_R2_Test':mean_squared_error(y_test,lasso.predict(X_test)),\n",
    "                            'CV_R2_Train':mean_squared_error(y_train,cross_val_predict(lr,X_train,y_train,cv=5)),\n",
    "                            'CV_R2_Test':mean_squared_error(y_test,cross_val_predict(lr,X_test,y_test,cv=5))}]).transpose()\n",
    "sns.barplot(x=score_comp.index,y=score_comp[0],data=score_comp).set(title='MSE Scores')"
   ]
  },
  {
   "cell_type": "code",
   "execution_count": 93,
   "id": "a2bb3f68",
   "metadata": {},
   "outputs": [
    {
     "name": "stdout",
     "output_type": "stream",
     "text": [
      "LR Model Coefficients:  393.8521308044146 [-91.11165996 169.58408251  -7.27184053  -9.24905545  -1.53810918\n",
      "   8.15029178]\n",
      "According to this, the second feature which is Monthly.Premium.Auto is the most important feature with       coefficient of 169.58\n"
     ]
    },
    {
     "data": {
      "text/plain": [
       "[Text(0.5, 1.0, 'Feature Weights')]"
      ]
     },
     "execution_count": 93,
     "metadata": {},
     "output_type": "execute_result"
    },
    {
     "data": {
      "image/png": "[encoded data removed]",
      "text/plain": [
       "<Figure size 1152x720 with 1 Axes>"
      ]
     },
     "metadata": {},
     "output_type": "display_data"
    }
   ],
   "source": [
    "# Coefficients of Linear Regression are\n",
    "# According to this, the second feature which is Monthly.Premium.Auto is the most important feature with coefficient of 169.58\"\n",
    "print(\"LR Model Coefficients: \", model.intercept_, model.coef_)\n",
    "print(\"According to this, the second feature which is Monthly.Premium.Auto is the most important feature with \\\n",
    "      coefficient of 169.58\")\n",
    "\n",
    "\n",
    "sns.set(rc={'figure.figsize':(16,10)})\n",
    "a = pd.DataFrame()\n",
    "a['Names'] = x.columns\n",
    "a['Feature_Coeff'] = model.coef_\n",
    "a = a.sort_values('Feature_Coeff',ascending=False)\n",
    "sns.barplot(x=a['Names'],y=a['Feature_Coeff'],data=a).set(title='Feature Weights')"
   ]
  },
  {
   "cell_type": "code",
   "execution_count": null,
   "id": "92e1ae2f",
   "metadata": {},
   "outputs": [],
   "source": []
  },
  {
   "cell_type": "code",
   "execution_count": null,
   "id": "8ad74955",
   "metadata": {},
   "outputs": [],
   "source": []
  }
 ],
 "metadata": {
  "kernelspec": {
   "display_name": "Python 3 (ipykernel)",
   "language": "python",
   "name": "python3"
  },
  "language_info": {
   "codemirror_mode": {
    "name": "ipython",
    "version": 3
   },
   "file_extension": ".py",
   "mimetype": "text/x-python",
   "name": "python",
   "nbconvert_exporter": "python",
   "pygments_lexer": "ipython3",
   "version": "3.10.2"
  }
 },
 "nbformat": 4,
 "nbformat_minor": 5
}
